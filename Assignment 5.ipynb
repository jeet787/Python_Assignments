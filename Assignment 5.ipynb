{
 "cells": [
  {
   "cell_type": "code",
   "execution_count": null,
   "id": "070054ad",
   "metadata": {},
   "outputs": [
    {
     "name": "stdout",
     "output_type": "stream",
     "text": [
      "Question 1 Solution:\n",
      "\n",
      "Temperature in celsius is:  32.6 C\n",
      "Temperature in farenheit is: 90.68 F\n",
      "\n"
     ]
    }
   ],
   "source": [
    "# Part 1: Problems on Functions\n",
    "# =====================\n",
    "# Question 1\n",
    "# Given the temperature of a day in Degrees Celsius, convert this given \n",
    "# temperature from Celsius to Fahrenheit. Complete the function to do so. \n",
    "# Round the output up to 2 decimal places\n",
    "# Note:\n",
    "#  To round up the values \n",
    "#   Python : Use round(ans,2) to round up ans to two decimals\n",
    "#  The formula to convert Celsius to Fahrenheit is: \n",
    "#  F = (9/5 * C) + 32\n",
    "print(\"Question 1 Solution:\\n\")\n",
    "def celsius_to_fahrenheit(celsius):\n",
    "    ans = (9/5 * celsius) + 32\n",
    "    return round(ans, 2)\n",
    "tempINC = float(input(\"Enter the temperature in Celsius: \"))\n",
    "print(\"Temperature in celsius is: \", tempINC, \"C\")\n",
    "print(f\"Temperature in farenheit is: {celsius_to_fahrenheit(tempINC)} F\\n\")"
   ]
  },
  {
   "cell_type": "code",
   "execution_count": null,
   "id": "9e6c9614",
   "metadata": {},
   "outputs": [
    {
     "name": "stdout",
     "output_type": "stream",
     "text": [
      "Question 2 Solution:\n",
      "\n",
      "The total amount is: 8306.85\n"
     ]
    }
   ],
   "source": [
    "# Question 2 : Write a program to calculate the total amount if the principal \n",
    "# amount, simple interest rate per annum, and time in the number of days \n",
    "# are given. The simple interest rate per annum is provided as a percentage. \n",
    "# Assuming that there are 365 days in a year, print the total amount rounded \n",
    "# up to 2 decimal places.\n",
    "# Note 1 : Use round(ans,2) to round up ans up to two decimals\n",
    "print(\"Question 2 Solution:\\n\")\n",
    "def total_amount(principal, rate, time):\n",
    "    si = (principal * rate * time) / (100 * 365)\n",
    "    total_amt = principal + si\n",
    "    return round(total_amt, 2)\n",
    "p = float(input(\"Enter the principal amount: \"))\n",
    "r = float(input(\"Enter the simple interest rate per annum (in %): \"))\n",
    "t = float(input(\"Enter the time in days: \"))\n",
    "print(f\"The total amount is: {total_amount(p, r, t)}\")"
   ]
  },
  {
   "cell_type": "code",
   "execution_count": 4,
   "id": "c3866dad",
   "metadata": {},
   "outputs": [
    {
     "name": "stdout",
     "output_type": "stream",
     "text": [
      "\n",
      "Question 3 Solution:\n",
      "\n",
      "Tax for: RS. 800 is: RS.40.0\n"
     ]
    }
   ],
   "source": [
    "# Question 3\n",
    "# ➌ Write a program that takes the cost price of a vehicle as an argument and \n",
    "# returns the road tax, that the vehicle owner has to pay according to the \n",
    "# following criteria:\n",
    "# Note1 : Return the tax up to one decimal place.\n",
    "print(\"\\nQuestion 3 Solution:\\n\")\n",
    "def road_tax(price):\n",
    "    if price > 100000:\n",
    "        tax = 0.2 * price\n",
    "    elif (price > 75000 and price <= 100000):\n",
    "        tax = 0.15 * price\n",
    "    elif (price > 50000 and price <= 75000):\n",
    "        tax = 0.1 * price\n",
    "    else:\n",
    "        tax = 0.05 * price\n",
    "    return print(f\"Tax for: RS. {price} is: RS.{round(tax,1)}\")\n",
    "\n",
    "cp = int(input(\"Enter the Cost Price:\"))\n",
    "road_tax(cp)"
   ]
  },
  {
   "cell_type": "code",
   "execution_count": null,
   "id": "87fb0f92",
   "metadata": {},
   "outputs": [
    {
     "name": "stdout",
     "output_type": "stream",
     "text": [
      "Question 4 solution:\n",
      "Area of the circle for radius 10 is: 314.16\n"
     ]
    }
   ],
   "source": [
    "# Question 4: You are given a positive integer A denoting the radius of a circle. You have to calculate the area of the circle. Note: The formula for the area of a circle is Area = πr², where r is the circle's radius. You can use the value of PI as 3.1416. Round up the final answer up to 2 decimal places. You can round(area, 2) for rounding area to 2 decimal places\n",
    "class Solution:\n",
    "    # @param A : integer\n",
    "    # @return an integer\n",
    "    def solve(self, A):\n",
    "        # return math.ceil(math.pi*(A**2))\n",
    "        return round(3.1416*(A**2), 2)\n",
    "print(\"Question 4 solution:\")\n",
    "s = Solution()\n",
    "r = int(input(\"Enter Radius of the circle:\"))\n",
    "print(f\"Area of the circle for radius {r} is: {s.solve(r)}\")"
   ]
  },
  {
   "cell_type": "code",
   "execution_count": 6,
   "id": "e27321f1",
   "metadata": {},
   "outputs": [
    {
     "name": "stdout",
     "output_type": "stream",
     "text": [
      "Question 5 solution:\n",
      "Sum of squares for num: 88 is: 231044\n"
     ]
    }
   ],
   "source": [
    "# Question 5: Given an integer n, write a program to return the sum of squares of first n natural numbers in integer format.\n",
    "# Note1 :\n",
    "# The formula for the sum of squares of first n natural numbers is: n(n+1)(2n+1)/6\n",
    "def sum_squares(n):\n",
    "    ans = (n*(n+1)*(2*n+1))//6\n",
    "    return print(f\"Sum of squares for num: {n} is: {ans}\")\n",
    "print(\"Question 5 solution:\")\n",
    "n = int(input(\"Enter a number:\"))\n",
    "sum_squares(n)"
   ]
  },
  {
   "cell_type": "code",
   "execution_count": null,
   "id": "79f0b58a",
   "metadata": {},
   "outputs": [],
   "source": []
  }
 ],
 "metadata": {
  "kernelspec": {
   "display_name": "base",
   "language": "python",
   "name": "python3"
  },
  "language_info": {
   "codemirror_mode": {
    "name": "ipython",
    "version": 3
   },
   "file_extension": ".py",
   "mimetype": "text/x-python",
   "name": "python",
   "nbconvert_exporter": "python",
   "pygments_lexer": "ipython3",
   "version": "3.12.7"
  }
 },
 "nbformat": 4,
 "nbformat_minor": 5
}
