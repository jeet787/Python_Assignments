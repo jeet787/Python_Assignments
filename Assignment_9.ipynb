{
 "cells": [
  {
   "cell_type": "code",
   "execution_count": 1,
   "metadata": {},
   "outputs": [],
   "source": [
    "# Assignment 9: Lists, Strings, Dictionaries, and Nested Structures"
   ]
  },
  {
   "cell_type": "code",
   "execution_count": 2,
   "metadata": {},
   "outputs": [
    {
     "data": {
      "text/plain": [
       "[2000, 2001, 2002, 2003, 2004, 2005]"
      ]
     },
     "execution_count": 2,
     "metadata": {},
     "output_type": "execute_result"
    }
   ],
   "source": [
    "# 1. Year List Creation\n",
    "# Create a list years_list that includes the year of your birth and the next five years (total 6 years).\n",
    "\n",
    "years_list = [2000, 2001, 2002, 2003, 2004, 2005] \n",
    "years_list\n",
    "\n",
    "# -------------------------------------------------------"
   ]
  },
  {
   "cell_type": "code",
   "execution_count": 3,
   "metadata": {},
   "outputs": [
    {
     "name": "stdout",
     "output_type": "stream",
     "text": [
      "Year when I was 3 years old: 2003\n"
     ]
    }
   ],
   "source": [
    "# 2. Third Birthday Year\n",
    "# Print the year in years_list when you were 3 years old.\n",
    "# Hint: Remember, your 0th year is the first item.\n",
    "\n",
    "print(\"Year when I was 3 years old:\",years_list[3])\n",
    "\n",
    "# -------------------------------------------------------"
   ]
  },
  {
   "cell_type": "code",
   "execution_count": 4,
   "metadata": {},
   "outputs": [
    {
     "name": "stdout",
     "output_type": "stream",
     "text": [
      "Year when I was oldest from the list data: 2005\n"
     ]
    }
   ],
   "source": [
    "# 3. Oldest Year\n",
    "# Which year in years_list represents the most recent (your oldest age)?\n",
    "\n",
    "print(\"Year when I was oldest from the list data:\",years_list[-1])\n",
    "\n",
    "# -------------------------------------------------------"
   ]
  },
  {
   "cell_type": "code",
   "execution_count": 5,
   "metadata": {},
   "outputs": [
    {
     "data": {
      "text/plain": [
       "['mozzarella', 'cinderella', 'salmonella']"
      ]
     },
     "execution_count": 5,
     "metadata": {},
     "output_type": "execute_result"
    }
   ],
   "source": [
    "# 4. List of Things\n",
    "# Create a list called things with the following items:\n",
    "# [\"mozzarella\", \"cinderella\", \"salmonella\"]\n",
    "\n",
    "things = [\"mozzarella\", \"cinderella\", \"salmonella\"]\n",
    "things\n",
    "\n",
    "# -------------------------------------------------------"
   ]
  },
  {
   "cell_type": "code",
   "execution_count": 6,
   "metadata": {},
   "outputs": [
    {
     "name": "stdout",
     "output_type": "stream",
     "text": [
      "Things list: ['mozzarella', 'Cinderella', 'salmonella']\n"
     ]
    }
   ],
   "source": [
    "# 5. Capitalization Check\n",
    "# Capitalize the item that refers to a person in the things list.\n",
    "# Print the list. Did the original list change?\n",
    "\n",
    "things[1] = things[1].capitalize()\n",
    "print(\"Things list:\",things)\n",
    "# Yes, the original list did change because we reassigned the capitalized string back to index 1.\n",
    "\n",
    "# -------------------------------------------------------"
   ]
  },
  {
   "cell_type": "code",
   "execution_count": 7,
   "metadata": {},
   "outputs": [
    {
     "data": {
      "text/plain": [
       "['Groucho', 'Chico', 'Harpo']"
      ]
     },
     "execution_count": 7,
     "metadata": {},
     "output_type": "execute_result"
    }
   ],
   "source": [
    "# 6. Surprise List\n",
    "# Create a list called surprise_list with these values:\n",
    "# [\"Groucho\", \"Chico\", \"Harpo\"]\n",
    "\n",
    "surprise_list = [\"Groucho\", \"Chico\", \"Harpo\"]\n",
    "surprise_list\n",
    "# -------------------------------------------------------"
   ]
  },
  {
   "cell_type": "code",
   "execution_count": 8,
   "metadata": {},
   "outputs": [
    {
     "name": "stdout",
     "output_type": "stream",
     "text": [
      "Oprah\n"
     ]
    }
   ],
   "source": [
    "# 7. String Transformation\n",
    "# Take the last item in surprise_list:\n",
    "# • Lowercase it\n",
    "# • Reverse it\n",
    "# • Capitalize the result\n",
    "# Then print it.\n",
    "\n",
    "transformed = surprise_list[-1].lower()[::-1].capitalize()\n",
    "print(transformed)\n",
    "\n",
    "# -------------------------------------------------------"
   ]
  },
  {
   "cell_type": "code",
   "execution_count": 9,
   "metadata": {},
   "outputs": [
    {
     "name": "stdout",
     "output_type": "stream",
     "text": [
      "{'dog': 'chien', 'cat': 'chat', 'walrus': 'morse'}\n"
     ]
    }
   ],
   "source": [
    "# 8. English-to-French Dictionary\n",
    "# Create a dictionary e2f that maps these:\n",
    "# dog → chien\n",
    "# cat → chat\n",
    "# walrus → morse\n",
    "# Print the dictionary.\n",
    "\n",
    "e2f = {'dog': 'chien', 'cat': 'chat', 'walrus': 'morse'}\n",
    "print(e2f)\n",
    "\n",
    "# -------------------------------------------------------"
   ]
  },
  {
   "cell_type": "code",
   "execution_count": 10,
   "metadata": {},
   "outputs": [
    {
     "name": "stdout",
     "output_type": "stream",
     "text": [
      "morse\n"
     ]
    }
   ],
   "source": [
    "# 9. Translate 'walrus' to French\n",
    "# Use e2f to print the French word for “walrus.”\n",
    "\n",
    "print(e2f['walrus'])\n",
    "\n",
    "# -------------------------------------------------------"
   ]
  },
  {
   "cell_type": "code",
   "execution_count": 11,
   "metadata": {},
   "outputs": [
    {
     "name": "stdout",
     "output_type": "stream",
     "text": [
      "{'chien': 'dog', 'chat': 'cat', 'morse': 'walrus'}\n"
     ]
    }
   ],
   "source": [
    "# 10. Reverse Dictionary\n",
    "# Create a reverse dictionary f2e from e2f using the .items() method.\n",
    "# Print f2e.\n",
    "\n",
    "f2e = {v: k for k, v in e2f.items()}\n",
    "print(f2e)\n",
    "\n",
    "# -------------------------------------------------------"
   ]
  },
  {
   "cell_type": "code",
   "execution_count": 12,
   "metadata": {},
   "outputs": [
    {
     "name": "stdout",
     "output_type": "stream",
     "text": [
      "dog\n"
     ]
    }
   ],
   "source": [
    "# 11. Translate 'chien' to English\n",
    "# Use f2e to print the English word for “chien.”\n",
    "\n",
    "print(f2e['chien'])\n",
    "\n",
    "# -------------------------------------------------------"
   ]
  },
  {
   "cell_type": "code",
   "execution_count": 13,
   "metadata": {},
   "outputs": [
    {
     "name": "stdout",
     "output_type": "stream",
     "text": [
      "{'walrus', 'dog', 'cat'}\n"
     ]
    }
   ],
   "source": [
    "# 12. Get All English Words\n",
    "# Print the set of all English words (the keys from e2f).\n",
    "\n",
    "print(set(e2f.keys()))\n",
    "\n",
    "# -------------------------------------------------------"
   ]
  },
  {
   "cell_type": "code",
   "execution_count": 14,
   "metadata": {},
   "outputs": [
    {
     "data": {
      "text/plain": [
       "{'animals': {'cats': ['Henri', 'Grumpy', 'Lucy'], 'octopi': {}, 'emus': {}},\n",
       " 'plants': {},\n",
       " 'other': {}}"
      ]
     },
     "execution_count": 14,
     "metadata": {},
     "output_type": "execute_result"
    }
   ],
   "source": [
    "# 13. Create a Nested Dictionary (life)\n",
    "# Create a dictionary life structured like this:\n",
    "\n",
    "life = {\n",
    "    'animals': {\n",
    "        'cats': ['Henri', 'Grumpy', 'Lucy'],\n",
    "        'octopi': {},\n",
    "        'emus': {}\n",
    "    },\n",
    "    'plants': {},\n",
    "    'other': {}\n",
    "}\n",
    "life\n",
    "# -------------------------------------------------------"
   ]
  },
  {
   "cell_type": "code",
   "execution_count": 15,
   "metadata": {},
   "outputs": [
    {
     "name": "stdout",
     "output_type": "stream",
     "text": [
      "dict_keys(['animals', 'plants', 'other'])\n"
     ]
    }
   ],
   "source": [
    "# 14. Top-Level Keys\n",
    "# Print the top-level keys of life.\n",
    "\n",
    "print(life.keys())\n",
    "\n",
    "# -------------------------------------------------------"
   ]
  },
  {
   "cell_type": "code",
   "execution_count": 16,
   "metadata": {},
   "outputs": [
    {
     "name": "stdout",
     "output_type": "stream",
     "text": [
      "dict_keys(['cats', 'octopi', 'emus'])\n"
     ]
    }
   ],
   "source": [
    "# 15. Animal Categories\n",
    "# Print the keys inside life['animals'].\n",
    "\n",
    "print(life['animals'].keys())\n",
    "\n",
    "# -------------------------------------------------------"
   ]
  },
  {
   "cell_type": "code",
   "execution_count": 17,
   "metadata": {},
   "outputs": [
    {
     "name": "stdout",
     "output_type": "stream",
     "text": [
      "['Henri', 'Grumpy', 'Lucy']\n"
     ]
    }
   ],
   "source": [
    "# 16. List of Cat Names\n",
    "# Print the list of cat names stored in life['animals']['cats'].\n",
    "\n",
    "print(life['animals']['cats'])"
   ]
  }
 ],
 "metadata": {
  "kernelspec": {
   "display_name": "Python 3",
   "language": "python",
   "name": "python3"
  },
  "language_info": {
   "codemirror_mode": {
    "name": "ipython",
    "version": 3
   },
   "file_extension": ".py",
   "mimetype": "text/x-python",
   "name": "python",
   "nbconvert_exporter": "python",
   "pygments_lexer": "ipython3",
   "version": "3.12.3"
  }
 },
 "nbformat": 4,
 "nbformat_minor": 2
}
