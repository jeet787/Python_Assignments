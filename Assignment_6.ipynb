{
 "cells": [
  {
   "cell_type": "code",
   "execution_count": 11,
   "metadata": {},
   "outputs": [],
   "source": [
    "# Assignment 6 – Functions and Lambda Expressions\n",
    "# 1. Short Answer Questions:"
   ]
  },
  {
   "cell_type": "markdown",
   "metadata": {},
   "source": [
    "### Q1. Explain the difference between def statements and lambda expressions. Give an example of each.\n",
    "\n",
    "- `def` is used to define a standard named function and can contain multiple statements.\n",
    "- `lambda` creates a small, anonymous function, usually for a quick, single-expression operation.\n",
    "\n",
    "*Using def*\n",
    "```\n",
    "def add(x, y):\n",
    "return x + y\n",
    "Using lambda\n",
    "\n",
    "add = lambda x, y: x + y\n",
    "```"
   ]
  },
  {
   "cell_type": "markdown",
   "metadata": {},
   "source": [
    "---\n",
    "\n",
    "### Q2. List and explain three benefits of using lambda expressions.\n",
    "\n",
    "- **Conciseness:** Makes code shorter by allowing inline anonymous functions.\n",
    "- **Functional Programming:** Useful with functions like `map()`, `filter()`, and `sorted()`.\n",
    "- **Readability for Simple Logic:** Avoids cluttering the code with unnecessary one-time function names.\n",
    "---"
   ]
  },
  {
   "cell_type": "markdown",
   "metadata": {},
   "source": [
    "### Q3. Compare map(), filter(), and reduce() with one-line examples using a lambda function and a list.\n",
    "\n",
    "- `map()` applies a function to each item:\n",
    "```\n",
    "list(map(lambda x: x*2, ))\n",
    "```\n",
    "\n",
    "- `filter()` keeps items where the function returns True:\n",
    "```\n",
    "list(filter(lambda x: x%2 == 0, ))\n",
    "```\n",
    "\n",
    "- `reduce()` (from functools) reduces the list to a single value:\n",
    "```\n",
    "from functools import reduce\n",
    "reduce(lambda a, b: a+b, )\n",
    "```\n"
   ]
  },
  {
   "cell_type": "markdown",
   "metadata": {},
   "source": [
    "---\n",
    "### Q4. What are function annotations in Python? Write a function that uses them.\n",
    "\n",
    "Function annotations let you attach metadata about the types of arguments and return values to a function.\n",
    "\n",
    "```\n",
    "def greet(name: str) -> str:\n",
    "return \"Hello, \" + name\n",
    "```"
   ]
  },
  {
   "cell_type": "markdown",
   "metadata": {},
   "source": [
    "---\n",
    "### Q5. What is a recursive function? Write a simple recursive function to calculate the factorial of a number.\n",
    "\n",
    "A recursive function is a function that calls itself to solve a smaller piece of the problem.\n",
    "\n",
    "```\n",
    "def factorial(n):\n",
    "if n == 1:\n",
    "return 1\n",
    "else:\n",
    "return n * factorial(n-1)\n",
    "```"
   ]
  },
  {
   "cell_type": "markdown",
   "metadata": {},
   "source": [
    "---\n",
    "### Q6. State five design guidelines you should follow while writing functions in Python.\n",
    "\n",
    "1. Use meaningful names for functions and parameters.\n",
    "2. Keep functions small and focused on one task.\n",
    "3. Use docstrings to describe what the function does.\n",
    "4. Avoid side-effects like modifying global variables.\n",
    "5. Return values with `return` rather than printing or modifying outside data directly.\n",
    "---"
   ]
  },
  {
   "cell_type": "markdown",
   "metadata": {},
   "source": [
    "### Q7. Name at least three ways a function can communicate results to a caller and briefly explain each.\n",
    "\n",
    "- **return:** Sends a value back to the caller.\n",
    "- **print:** Displays a message to the console (not generally used for returning results, more for information/debugging).\n",
    "- **yield:** Generates a sequence of values using a generator (can iterate over the results).\n"
   ]
  },
  {
   "cell_type": "code",
   "execution_count": 12,
   "metadata": {},
   "outputs": [
    {
     "name": "stdout",
     "output_type": "stream",
     "text": [
      "Product of 5 and 7 is: 35\n"
     ]
    }
   ],
   "source": [
    "# 2. Coding Tasks:\n",
    "# Task 1:\n",
    "# Write a lambda function that takes two numbers and returns their product.\n",
    "# Assign it to a variable and call it with 5 and 7.\n",
    "\n",
    "product = lambda x, y: x * y\n",
    "print(\"Product of 5 and 7 is:\", product(5, 7))\n"
   ]
  },
  {
   "cell_type": "code",
   "execution_count": 13,
   "metadata": {},
   "outputs": [
    {
     "name": "stdout",
     "output_type": "stream",
     "text": [
      "Squared numbers: [1, 4, 9, 16, 25]\n"
     ]
    }
   ],
   "source": [
    "# Task 2:\n",
    "# Use map() to square every number in a list [1, 2, 3, 4, 5].\n",
    "\n",
    "numbers = [1, 2, 3, 4, 5]\n",
    "squared = list(map(lambda x: x**2, numbers))\n",
    "print(\"Squared numbers:\", squared)\n"
   ]
  },
  {
   "cell_type": "code",
   "execution_count": 14,
   "metadata": {},
   "outputs": [
    {
     "name": "stdout",
     "output_type": "stream",
     "text": [
      "Even numbers: [10, 20, 30]\n"
     ]
    }
   ],
   "source": [
    "# Task 3:\n",
    "# Use filter() to extract only the even numbers from the list [10, 15, 20, 25, 30].\n",
    "\n",
    "nums = [10, 15, 20, 25, 30]\n",
    "evens = list(filter(lambda x: x % 2 == 0, nums))\n",
    "print(\"Even numbers:\", evens)\n"
   ]
  },
  {
   "cell_type": "code",
   "execution_count": 15,
   "metadata": {},
   "outputs": [
    {
     "name": "stdout",
     "output_type": "stream",
     "text": [
      "Product of list: 120\n"
     ]
    }
   ],
   "source": [
    "# Task 4:\n",
    "# Use reduce() from functools to calculate the product of numbers in [1, 2, 3, 4, 5].\n",
    "\n",
    "from functools import reduce\n",
    "\n",
    "num_list = [1, 2, 3, 4, 5]\n",
    "product_result = reduce(lambda a, b: a * b, num_list)\n",
    "print(\"Product of list:\", product_result)\n"
   ]
  },
  {
   "cell_type": "code",
   "execution_count": 16,
   "metadata": {},
   "outputs": [
    {
     "name": "stdout",
     "output_type": "stream",
     "text": [
      "4 is: Even\n",
      "7 is: Odd\n"
     ]
    }
   ],
   "source": [
    "# Task 5:\n",
    "# Create a function with annotations that:\n",
    "# • takes an integer as input,\n",
    "# • returns a string saying whether it is \"Even\" or \"Odd\".\n",
    "\n",
    "def check_even_odd(num: int) -> str:\n",
    "    if num % 2 == 0:\n",
    "        return \"Even\"\n",
    "    else:\n",
    "        return \"Odd\"\n",
    "\n",
    "print(\"4 is:\", check_even_odd(4))\n",
    "print(\"7 is:\", check_even_odd(7))\n"
   ]
  },
  {
   "cell_type": "code",
   "execution_count": 17,
   "metadata": {},
   "outputs": [
    {
     "name": "stdout",
     "output_type": "stream",
     "text": [
      "Sum from 1 to 5: 15\n"
     ]
    }
   ],
   "source": [
    "# Task 6:\n",
    "# Write a recursive function to compute the sum of all numbers from 1 to n.\n",
    "\n",
    "def recursive_sum(n):\n",
    "    if n == 1:\n",
    "        return 1\n",
    "    else:\n",
    "        return n + recursive_sum(n - 1)\n",
    "\n",
    "n = 5\n",
    "print(f\"Sum from 1 to {n}:\", recursive_sum(n))\n"
   ]
  },
  {
   "cell_type": "code",
   "execution_count": 18,
   "metadata": {},
   "outputs": [
    {
     "name": "stdout",
     "output_type": "stream",
     "text": [
      "\n",
      "Getting value from yield:\n",
      "This is from print\n",
      "This is from yield\n"
     ]
    }
   ],
   "source": [
    "# Bonus Question\n",
    "# Write a function that returns different results using print, return, and yield.\n",
    "# Call the function and show how each type of output works.\n",
    "\n",
    "def show_outputs():\n",
    "    print(\"This is from print\")\n",
    "    yield \"This is from yield\"\n",
    "    return \"This is from return\"\n",
    "\n",
    "res = show_outputs()\n",
    "\n",
    "print(\"\\nGetting value from yield:\")\n",
    "try:\n",
    "    print(next(res))\n",
    "except StopIteration as e:\n",
    "    print(\"Function returned:\", e.value)\n"
   ]
  },
  {
   "cell_type": "code",
   "execution_count": null,
   "metadata": {},
   "outputs": [],
   "source": []
  }
 ],
 "metadata": {
  "kernelspec": {
   "display_name": "Python 3",
   "language": "python",
   "name": "python3"
  },
  "language_info": {
   "codemirror_mode": {
    "name": "ipython",
    "version": 3
   },
   "file_extension": ".py",
   "mimetype": "text/x-python",
   "name": "python",
   "nbconvert_exporter": "python",
   "pygments_lexer": "ipython3",
   "version": "3.12.3"
  }
 },
 "nbformat": 4,
 "nbformat_minor": 2
}
