{
 "cells": [
  {
   "cell_type": "code",
   "execution_count": 8,
   "metadata": {},
   "outputs": [],
   "source": [
    "# Assignment 7: Function Parameters and Argument Behavior"
   ]
  },
  {
   "cell_type": "code",
   "execution_count": 9,
   "metadata": {},
   "outputs": [
    {
     "name": "stdout",
     "output_type": "stream",
     "text": [
      "1 2 8\n"
     ]
    }
   ],
   "source": [
    "# 1. Default Arguments\n",
    "# Q1. What will be the output of the following function call, and why?\n",
    "def func1(a, b=6, c=8):\n",
    "    print(a, b, c)\n",
    "\n",
    "func1(1, 2)\n",
    "\n",
    "# Explanation:\n",
    "# - 'a' gets the value 1 from the positional argument.\n",
    "# - 'b' is overridden to 2 instead of the default 6.\n",
    "# - 'c' uses its default value 8 because no argument was provided."
   ]
  },
  {
   "cell_type": "code",
   "execution_count": 10,
   "metadata": {},
   "outputs": [
    {
     "name": "stdout",
     "output_type": "stream",
     "text": [
      "1 2 3\n"
     ]
    }
   ],
   "source": [
    "# 2. Keyword Arguments with Defaults\n",
    "# Q2. Predict the output and explain:\n",
    "def func2(a, b, c=5):\n",
    "    print(a, b, c)\n",
    "\n",
    "func2(1, c=3, b=2)\n",
    "\n",
    "# Explanation:\n",
    "# - Positional argument 'a' is 1.\n",
    "# - Keyword arguments 'b' and 'c' are explicitly set to 2 and 3.\n",
    "# - Order of keyword arguments does not matter."
   ]
  },
  {
   "cell_type": "code",
   "execution_count": 11,
   "metadata": {},
   "outputs": [
    {
     "name": "stdout",
     "output_type": "stream",
     "text": [
      "1 (2, 3)\n"
     ]
    }
   ],
   "source": [
    "# 3. Positional Variable-Length Arguments\n",
    "# Q3. Explain the behavior and output:\n",
    "def func3(a, *pargs):\n",
    "    print(a, pargs)\n",
    "\n",
    "func3(1, 2, 3)\n",
    "\n",
    "# Explanation:\n",
    "# - 'a' receives the first argument 1.\n",
    "# - The remaining positional arguments are packed into tuple 'pargs'."
   ]
  },
  {
   "cell_type": "code",
   "execution_count": 12,
   "metadata": {},
   "outputs": [
    {
     "name": "stdout",
     "output_type": "stream",
     "text": [
      "1 {'c': 3, 'b': 2}\n"
     ]
    }
   ],
   "source": [
    "# 4. Keyword Variable-Length Arguments\n",
    "# Q4. What will this code print, and why?\n",
    "def func4(a, **kargs):\n",
    "    print(a, kargs)\n",
    "\n",
    "func4(a=1, c=3, b=2)\n",
    "# Output: 1 {'c': 3, 'b': 2}\n",
    "# Explanation:\n",
    "# - 'a' is assigned keyword argument 1.\n",
    "# - Other keyword arguments are collected into dictionary 'kargs'."
   ]
  },
  {
   "cell_type": "code",
   "execution_count": 13,
   "metadata": {},
   "outputs": [
    {
     "name": "stdout",
     "output_type": "stream",
     "text": [
      "1 5 6 5\n"
     ]
    }
   ],
   "source": [
    "# 5. Mixing Positional and Unpacked Tuple Arguments\n",
    "# Q5. Explain the result of this call:\n",
    "def func5(a, b, c=8, d=5):\n",
    "    print(a, b, c, d)\n",
    "\n",
    "func5(1, *(5, 6))\n",
    "\n",
    "# Explanation:\n",
    "# - 'a' is 1\n",
    "# - The tuple *(5, 6) unpacks to 'b'=5, 'c'=6\n",
    "# - 'd' uses default 5"
   ]
  },
  {
   "cell_type": "code",
   "execution_count": 14,
   "metadata": {},
   "outputs": [
    {
     "name": "stdout",
     "output_type": "stream",
     "text": [
      "1 ['x'] {'a': 'y'}\n"
     ]
    }
   ],
   "source": [
    "# 6. Mutable vs Immutable Behavior\n",
    "# Q6. Predict the output of the variables l, m, and n after this code runs:\n",
    "def func6(a, b, c):\n",
    "    a = 2\n",
    "    b[0] = 'x'\n",
    "    c['a'] = 'y'\n",
    "\n",
    "l = 1\n",
    "m = [1]\n",
    "n = {'a': 0}\n",
    "\n",
    "func6(l, m, n)\n",
    "print(l, m, n)\n",
    "\n",
    "# Explanation:\n",
    "# - 'l' remains 1 because integers are immutable; assignment inside the function doesn't affect external variable.\n",
    "# - 'm' is changed because lists are mutable.\n",
    "# - 'n' is changed because dictionaries are mutable."
   ]
  },
  {
   "cell_type": "code",
   "execution_count": 15,
   "metadata": {},
   "outputs": [
    {
     "name": "stdout",
     "output_type": "stream",
     "text": [
      "Required argument: 10\n",
      "Positional arguments: (20, 30)\n",
      "Keyword arguments: {'x': 5, 'y': 15}\n"
     ]
    }
   ],
   "source": [
    "# Bonus Challenge\n",
    "# Write a function that accepts:\n",
    "# • one required argument,\n",
    "# • a variable number of positional arguments,\n",
    "# • a variable number of keyword arguments,\n",
    "# Then print all three components.\n",
    "def my_func(req_arg, *args, **kwargs):\n",
    "    print(\"Required argument:\", req_arg)\n",
    "    print(\"Positional arguments:\", args)\n",
    "    print(\"Keyword arguments:\", kwargs)\n",
    "\n",
    "my_func(10, 20, 30, x=5, y=15)"
   ]
  },
  {
   "cell_type": "code",
   "execution_count": null,
   "metadata": {},
   "outputs": [],
   "source": []
  }
 ],
 "metadata": {
  "kernelspec": {
   "display_name": "Python 3",
   "language": "python",
   "name": "python3"
  },
  "language_info": {
   "codemirror_mode": {
    "name": "ipython",
    "version": 3
   },
   "file_extension": ".py",
   "mimetype": "text/x-python",
   "name": "python",
   "nbconvert_exporter": "python",
   "pygments_lexer": "ipython3",
   "version": "3.12.3"
  }
 },
 "nbformat": 4,
 "nbformat_minor": 2
}
